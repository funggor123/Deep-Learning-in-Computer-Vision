{
 "cells": [
  {
   "cell_type": "markdown",
   "metadata": {},
   "source": [
    "#  Winpython Default checker (for Python 3.5)"
   ]
  },
  {
   "cell_type": "code",
   "execution_count": null,
   "metadata": {
    "collapsed": true
   },
   "outputs": [],
   "source": [
    "%matplotlib inline"
   ]
  },
  {
   "cell_type": "markdown",
   "metadata": {},
   "source": [
    "## Compilers: Numba (and Cython , only if you have visual studio 2015)"
   ]
  },
  {
   "cell_type": "code",
   "execution_count": null,
   "metadata": {
    "collapsed": false
   },
   "outputs": [],
   "source": [
    "# checking Numba JIT toolchain + Mingwpy compiler toolchain\n",
    "import numpy as np\n",
    "image = np.zeros((1024, 1536), dtype = np.uint8)\n",
    "\n",
    "from pylab import imshow, show\n",
    "from timeit import default_timer as timer\n",
    "from numba import autojit\n",
    "\n",
    "@autojit\n",
    "def mandel(x, y, max_iters):\n",
    "  c = complex(x, y)\n",
    "  z = 0.0j\n",
    "  for i in range(max_iters):\n",
    "    z = z*z + c\n",
    "    if (z.real*z.real + z.imag*z.imag) >= 4:\n",
    "      return i\n",
    "  return max_iters\n",
    "\n",
    "def create_fractal(min_x, max_x, min_y, max_y, image, iters , mandelx):\n",
    "  height = image.shape[0]\n",
    "  width = image.shape[1]\n",
    "  pixel_size_x = (max_x - min_x) / width\n",
    "  pixel_size_y = (max_y - min_y) / height\n",
    "    \n",
    "  for x in range(width):\n",
    "    real = min_x + x * pixel_size_x\n",
    "    for y in range(height):\n",
    "      imag = min_y + y * pixel_size_y\n",
    "      color = mandelx(real, imag, iters)\n",
    "      image[y, x] = color\n",
    "start = timer()\n",
    "create_fractal(-2.0, 1.0, -1.0, 1.0, image, 20 , mandel) \n",
    "dt = timer() - start\n",
    "\n",
    "print (\"Mandelbrot created by numba in %f s\" % dt)\n",
    "imshow(image)\n",
    "show()"
   ]
  },
  {
   "cell_type": "code",
   "execution_count": null,
   "metadata": {
    "collapsed": false
   },
   "outputs": [],
   "source": [
    "# Cython toolchain test (ONLY IF YOU HAVE VISUAL STUDIO 2015)\n",
    "%load_ext Cython"
   ]
  },
  {
   "cell_type": "raw",
   "metadata": {
    "collapsed": false
   },
   "source": [
    "%%cython -a\n",
    "# with %%cython -a , full C-speed lines are shown in white, slowest python-speed lines are shown in dark yellow lines \n",
    "# ==> put your cython rewrite effort on dark yellow lines\n",
    "def mandel_cython(x, y, max_iters):\n",
    "  cdef int   i \n",
    "  cdef double   cx, cy , zx, zy\n",
    "  cx , cy = x, y \n",
    "  zx , zy =0 ,0 \n",
    "  for i in range(max_iters):\n",
    "    zx , zy = zx*zx - zy*zy + cx , zx*zy*2 + cy\n",
    "    if (zx*zx + zy*zy) >= 4:\n",
    "      return i\n",
    "  return max_iters"
   ]
  },
  {
   "cell_type": "raw",
   "metadata": {
    "collapsed": false
   },
   "source": [
    "start = timer()\n",
    "create_fractal(-2.0, 1.0, -1.0, 1.0, image, 20 , mandel_cython) \n",
    "dt = timer() - start\n",
    "\n",
    "print (\"Mandelbrot created by cython in %f s\" % dt)\n",
    "imshow(image)\n",
    "show()"
   ]
  },
  {
   "cell_type": "markdown",
   "metadata": {},
   "source": [
    "##  Graphics: Matplotlib, Pandas, Seaborn, Bokeh, Holoviews, bqplot"
   ]
  },
  {
   "cell_type": "code",
   "execution_count": null,
   "metadata": {
    "collapsed": false
   },
   "outputs": [],
   "source": [
    "# Matplotlib\n",
    "from mpl_toolkits.mplot3d import axes3d\n",
    "import matplotlib.pyplot as plt\n",
    "from matplotlib import cm\n",
    "\n",
    "fig = plt.figure()\n",
    "ax = fig.gca(projection='3d')\n",
    "X, Y, Z = axes3d.get_test_data(0.05)\n",
    "ax.plot_surface(X, Y, Z, rstride=8, cstride=8, alpha=0.3)\n",
    "cset = ax.contourf(X, Y, Z, zdir='z', offset=-100, cmap=cm.coolwarm)\n",
    "cset = ax.contourf(X, Y, Z, zdir='x', offset=-40, cmap=cm.coolwarm)\n",
    "cset = ax.contourf(X, Y, Z, zdir='y', offset=40, cmap=cm.coolwarm)\n",
    "\n",
    "ax.set_xlabel('X')\n",
    "ax.set_xlim(-40, 40)\n",
    "ax.set_ylabel('Y')\n",
    "ax.set_ylim(-40, 40)\n",
    "ax.set_zlabel('Z')\n",
    "ax.set_zlim(-100, 100)\n",
    "\n",
    "plt.show()"
   ]
  },
  {
   "cell_type": "code",
   "execution_count": null,
   "metadata": {
    "collapsed": false
   },
   "outputs": [],
   "source": [
    "# Pandas interactive\n",
    "%matplotlib inline\n",
    "import pandas as pd\n",
    "import numpy as np\n",
    "import seaborn as sns\n",
    "# create a df with random datas\n",
    "np.random.seed(24)\n",
    "df = pd.DataFrame({'A': np.linspace(1, 10, 10)})\n",
    "df = pd.concat([df, pd.DataFrame(np.random.randn(10, 4), columns=list('BCDE'))],\n",
    "               axis=1)\n",
    "df.iloc[0, 2] = np.nan\n",
    "\n",
    "# interactive\n",
    "from IPython.html import widgets\n",
    "@widgets.interact\n",
    "def f(h_neg=(0, 359, 1), h_pos=(0, 359), s=(0., 99.9), l=(0., 99.9)):\n",
    "    return (df\n",
    "             .style\n",
    "             .background_gradient(\n",
    "                cmap=sns.palettes.diverging_palette(\n",
    "                     h_neg=h_neg, h_pos=h_pos, s=s, l=l, as_cmap=True)\n",
    "             ).highlight_null()\n",
    "           )"
   ]
  },
  {
   "cell_type": "code",
   "execution_count": null,
   "metadata": {
    "collapsed": false
   },
   "outputs": [],
   "source": [
    "# Seaborn\n",
    "# for more examples, see http://stanford.edu/~mwaskom/software/seaborn/examples/index.html\n",
    "import seaborn as sns\n",
    "sns.set()\n",
    "df = sns.load_dataset(\"iris\")\n",
    "sns.pairplot(df, hue=\"species\", size=1.5)"
   ]
  },
  {
   "cell_type": "code",
   "execution_count": null,
   "metadata": {
    "collapsed": false
   },
   "outputs": [],
   "source": [
    "# Bokeh 0.11.0\n",
    "# for more examples, see http://nbviewer.jupyter.org/github/bokeh/bokeh-notebooks/blob/master/index.ipynb\n",
    "import matplotlib.pyplot as plt\n",
    "import numpy as np\n",
    "import pandas as pd\n",
    "import os\n",
    "from bokeh import mpl\n",
    "from bokeh.plotting import output_notebook, show\n",
    "import matplotlib as mplc\n",
    "# Generate the pandas dataframe\n",
    "data = np.random.multivariate_normal([0, 0], [[1, 2], [2, 20]], size=100)\n",
    "data = pd.DataFrame(data, columns=[\"X\", \"Y\"])\n",
    "mplc.rc(\"figure\", figsize=(6, 6))\n",
    "\n",
    "# Just plot seaborn kde\n",
    "import seaborn as sns\n",
    "sns.kdeplot(data, cmap=\"BuGn_d\")\n",
    "\n",
    "plt.title(\"Seaborn kdeplot in bokeh.\")\n",
    "\n",
    "from bokeh.resources import INLINE\n",
    "# default solution output_notebook() relies on pydata.org (but spare 2Mo of inline jsscript in your notebook)\n",
    "# other method to get internal bokeh script can be\n",
    "#    os.environ['BOKEH_RESOURCES'] = 'inline'\n",
    "output_notebook(resources=INLINE)\n",
    "\n",
    "show(mpl.to_bokeh())"
   ]
  },
  {
   "cell_type": "code",
   "execution_count": null,
   "metadata": {
    "collapsed": false
   },
   "outputs": [],
   "source": [
    "# Holoviews \n",
    "from holoviews import *\n",
    "%load_ext holoviews.ipython\n",
    "fractal = Image(image)\n",
    "\n",
    "((fractal * HLine(y=0.16)).hist() + fractal.sample(y=0.16))"
   ]
  },
  {
   "cell_type": "markdown",
   "metadata": {},
   "source": [
    "## Ipython Notebook: Interactivity & other"
   ]
  },
  {
   "cell_type": "code",
   "execution_count": null,
   "metadata": {
    "collapsed": false
   },
   "outputs": [],
   "source": [
    "import IPython;IPython.__version__"
   ]
  },
  {
   "cell_type": "code",
   "execution_count": null,
   "metadata": {
    "collapsed": false
   },
   "outputs": [],
   "source": [
    "# Audio Example : https://github.com/ipython/ipywidgets/blob/master/examples/Beat%20Frequencies.ipynb\n",
    "%matplotlib inline\n",
    "import matplotlib.pyplot as plt\n",
    "import numpy as np\n",
    "from ipywidgets import interactive\n",
    "from IPython.display import Audio, display\n",
    "def beat_freq(f1=220.0, f2=224.0):\n",
    "    max_time = 3\n",
    "    rate = 8000\n",
    "    times = np.linspace(0,max_time,rate*max_time)\n",
    "    signal = np.sin(2*np.pi*f1*times) + np.sin(2*np.pi*f2*times)\n",
    "    print(f1, f2, abs(f1-f2))\n",
    "    display(Audio(data=signal, rate=rate))\n",
    "    return signal\n",
    "v = interactive(beat_freq, f1=(200.0,300.0), f2=(200.0,300.0))\n",
    "display(v)"
   ]
  },
  {
   "cell_type": "code",
   "execution_count": null,
   "metadata": {
    "collapsed": false
   },
   "outputs": [],
   "source": [
    "# Networks graph Example : https://github.com/ipython/ipywidgets/blob/master/examples/Exploring%20Graphs.ipynb\n",
    "%matplotlib inline\n",
    "from ipywidgets import interact\n",
    "import matplotlib.pyplot as plt\n",
    "import networkx as nx\n",
    "# wrap a few graph generation functions so they have the same signature\n",
    "\n",
    "def random_lobster(n, m, k, p):\n",
    "    return nx.random_lobster(n, p, p / m)\n",
    "\n",
    "def powerlaw_cluster(n, m, k, p):\n",
    "    return nx.powerlaw_cluster_graph(n, m, p)\n",
    "\n",
    "def erdos_renyi(n, m, k, p):\n",
    "    return nx.erdos_renyi_graph(n, p)\n",
    "\n",
    "def newman_watts_strogatz(n, m, k, p):\n",
    "    return nx.newman_watts_strogatz_graph(n, k, p)\n",
    "\n",
    "def plot_random_graph(n, m, k, p, generator):\n",
    "    g = generator(n, m, k, p)\n",
    "    nx.draw(g)\n",
    "    plt.show()\n",
    "    \n",
    "\n",
    "interact(plot_random_graph, n=(2,30), m=(1,10), k=(1,10), p=(0.0, 1.0, 0.001),\n",
    "        generator={'lobster': random_lobster,\n",
    "                   'power law': powerlaw_cluster,\n",
    "                   'Newman-Watts-Strogatz': newman_watts_strogatz,\n",
    "                   u'Erdős-Rényi': erdos_renyi,\n",
    "                   });\n",
    "\n"
   ]
  },
  {
   "cell_type": "code",
   "execution_count": null,
   "metadata": {
    "collapsed": false
   },
   "outputs": [],
   "source": [
    "# checking nbconvert \n",
    "!ipython nbconvert \"Beginner's FAQ.ipynb\" --to html"
   ]
  },
  {
   "cell_type": "code",
   "execution_count": null,
   "metadata": {
    "collapsed": false
   },
   "outputs": [],
   "source": [
    "%%HTML\n",
    "<iframe src=\"Beginner's FAQ.html\" width=700 height350></iframe>"
   ]
  },
  {
   "cell_type": "markdown",
   "metadata": {},
   "source": [
    "## Mathematical: statsmodels, lmfit, "
   ]
  },
  {
   "cell_type": "code",
   "execution_count": null,
   "metadata": {
    "collapsed": false
   },
   "outputs": [],
   "source": [
    "# checking statsmodels\n",
    "import numpy as np\n",
    "import matplotlib.pyplot as plt\n",
    "plt.style.use('ggplot')\n",
    "import statsmodels.api as sm\n",
    "data = sm.datasets.anes96.load_pandas()\n",
    "party_ID = np.arange(7)\n",
    "labels = [\"Strong Democrat\", \"Weak Democrat\", \"Independent-Democrat\",\n",
    "          \"Independent-Independent\", \"Independent-Republican\",\n",
    "          \"Weak Republican\", \"Strong Republican\"]\n",
    "plt.rcParams['figure.subplot.bottom'] = 0.23  # keep labels visible\n",
    "plt.rcParams['figure.figsize'] = (6.0, 4.0)  # make plot larger in notebook\n",
    "age = [data.exog['age'][data.endog == id] for id in party_ID]\n",
    "fig = plt.figure()\n",
    "ax = fig.add_subplot(111)\n",
    "plot_opts={'cutoff_val':5, 'cutoff_type':'abs',\n",
    "                                'label_fontsize':'small',\n",
    "                                'label_rotation':30}\n",
    "sm.graphics.beanplot(age, ax=ax, labels=labels,\n",
    "                     plot_opts=plot_opts)\n",
    "ax.set_xlabel(\"Party identification of respondent\")\n",
    "ax.set_ylabel(\"Age\")"
   ]
  },
  {
   "cell_type": "code",
   "execution_count": null,
   "metadata": {
    "collapsed": false
   },
   "outputs": [],
   "source": [
    "# lmfit test (from http://nbviewer.ipython.org/github/lmfit/lmfit-py/blob/master/examples/lmfit-model.ipynb)\n",
    "import numpy as np\n",
    "import matplotlib.pyplot as plt\n",
    "def decay(t, N, tau):\n",
    "    return N*np.exp(-t/tau)\n",
    "t = np.linspace(0, 5, num=1000)\n",
    "data = decay(t, 7, 3) + np.random.randn(*t.shape)\n",
    "\n",
    "from lmfit import Model\n",
    "\n",
    "model = Model(decay, independent_vars=['t'])\n",
    "result = model.fit(data, t=t, N=10, tau=1)\n",
    "plt.plot(t, data)  # data\n",
    "plt.plot(t, decay(t=t, **result.values), color='orange', linewidth=5)  # best-fit model"
   ]
  },
  {
   "cell_type": "markdown",
   "metadata": {},
   "source": [
    "## DataFrames: Pandas, Dask"
   ]
  },
  {
   "cell_type": "code",
   "execution_count": null,
   "metadata": {
    "collapsed": false
   },
   "outputs": [],
   "source": [
    "#Pandas \n",
    "import pandas as pd\n",
    "import numpy as np\n",
    "\n",
    "idx = pd.date_range('2000', '2005', freq='d', closed='left')\n",
    "datas = pd.DataFrame({'Color':  [ 'green' if x> 1 else 'red' for x in np.random.randn(len(idx))], \n",
    "         'Measure': np.random.randn(len(idx)), 'Year': idx.year},\n",
    "          index=idx)\n",
    "datas.head()"
   ]
  },
  {
   "cell_type": "markdown",
   "metadata": {},
   "source": [
    "### Split / Apply / Combine    \n",
    "    Split your data into multiple independent groups.\n",
    "    Apply some function to each group.\n",
    "    Combine your groups back into a single data object.\n"
   ]
  },
  {
   "cell_type": "code",
   "execution_count": null,
   "metadata": {
    "collapsed": false
   },
   "outputs": [],
   "source": [
    "datas.query('Measure > 0').groupby(['Color','Year']).size().unstack()"
   ]
  },
  {
   "cell_type": "markdown",
   "metadata": {},
   "source": [
    "## Web Scraping: Beautifulsoup"
   ]
  },
  {
   "cell_type": "code",
   "execution_count": null,
   "metadata": {
    "collapsed": false
   },
   "outputs": [],
   "source": [
    "# checking Web Scraping: beautifulsoup and requests \n",
    "import requests\n",
    "from bs4 import BeautifulSoup\n",
    "\n",
    "URL = 'http://en.wikipedia.org/wiki/Franklin,_Tennessee'\n",
    "\n",
    "req = requests.get(URL, headers={'User-Agent' : \"Mining the Social Web\"})\n",
    "soup = BeautifulSoup(req.text, \"lxml\")\n",
    "\n",
    "geoTag = soup.find(True, 'geo')\n",
    "\n",
    "if geoTag and len(geoTag) > 1:\n",
    "    lat = geoTag.find(True, 'latitude').string\n",
    "    lon = geoTag.find(True, 'longitude').string\n",
    "    print ('Location is at', lat, lon)\n",
    "elif geoTag and len(geoTag) == 1:\n",
    "    (lat, lon) = geoTag.string.split(';')\n",
    "    (lat, lon) = (lat.strip(), lon.strip())\n",
    "    print ('Location is at', lat, lon)\n",
    "else:\n",
    "    print ('No location found')"
   ]
  },
  {
   "cell_type": "markdown",
   "metadata": {},
   "source": [
    "## Operations Research: Pulp"
   ]
  },
  {
   "cell_type": "code",
   "execution_count": null,
   "metadata": {
    "collapsed": false
   },
   "outputs": [],
   "source": [
    "# Pulp example : minimizing the weight to carry 99 pennies\n",
    "#                (from Philip I Thomas)\n",
    "# see https://www.youtube.com/watch?v=UmMn-N5w-lI#t=995\n",
    "# Import PuLP modeler functions\n",
    "from pulp import *\n",
    "# The prob variable is created to contain the problem data        \n",
    "prob = LpProblem(\"99 pennies Problem\",LpMinimize)\n",
    "\n",
    "# Variables represent how many of each coin we want to carry\n",
    "pennies = LpVariable(\"Number of pennies\",0,None,LpInteger)\n",
    "nickels = LpVariable(\"Number of nickels\",0,None,LpInteger)\n",
    "dimes = LpVariable(\"Number of dimes\",0,None,LpInteger)\n",
    "quarters = LpVariable(\"Number of quarters\",0,None,LpInteger)\n",
    "\n",
    "# The objective function is added to 'prob' first\n",
    "\n",
    "# we want to minimize (LpMinimize) this \n",
    "prob += 2.5 * pennies + 5 * nickels + 2.268 * dimes + 5.670 * quarters, \"Total coins Weight\"\n",
    "\n",
    "# We want exactly 99 cents\n",
    "prob += 1 * pennies + 5 * nickels + 10 * dimes + 25 * quarters == 99, \"\"\n",
    "\n",
    "# The problem data is written to an .lp file\n",
    "prob.writeLP(\"99cents.lp\")\n",
    "prob.solve()\n",
    "\n",
    "# print (\"status\",LpStatus[prob.status] )\n",
    "print (\"Minimal Weight to carry exactly 99 pennies is %s grams\" % value(prob.objective))\n",
    "# Each of the variables is printed with it's resolved optimum value\n",
    "for v in prob.variables():\n",
    "    print (v.name, \"=\", v.varValue)"
   ]
  },
  {
   "cell_type": "markdown",
   "metadata": {},
   "source": [
    "## Deep Learning: Currently no Theano for WinPython 3.5"
   ]
  },
  {
   "cell_type": "raw",
   "metadata": {},
   "source": [
    "# Checking Theano\n",
    "import theano.tensor as T\n",
    "from theano import function\n",
    "x = T.dmatrix('x')\n",
    "y = T.dmatrix('y')\n",
    "z = x + y\n",
    "f = function([x, y], z)\n",
    "f([[1, 2], [3, 4]], [[10, 20], [30, 40]])"
   ]
  },
  {
   "cell_type": "markdown",
   "metadata": {},
   "source": [
    "## Symbolic Calculation: sympy"
   ]
  },
  {
   "cell_type": "code",
   "execution_count": null,
   "metadata": {
    "collapsed": false
   },
   "outputs": [],
   "source": [
    "# checking sympy \n",
    "import sympy\n",
    "a, b =sympy.symbols('a b')\n",
    "e=(a+b)**5\n",
    "e.expand()"
   ]
  },
  {
   "cell_type": "markdown",
   "metadata": {},
   "source": [
    "## SQL tools: sqlite, Ipython-sql, sqlite_bro, baresql, db.py"
   ]
  },
  {
   "cell_type": "code",
   "execution_count": null,
   "metadata": {
    "collapsed": false
   },
   "outputs": [],
   "source": [
    "# checking Ipython-sql, sqlparse, SQLalchemy\n",
    "%load_ext sql"
   ]
  },
  {
   "cell_type": "code",
   "execution_count": null,
   "metadata": {
    "collapsed": false
   },
   "outputs": [],
   "source": [
    "%%sql sqlite:///.baresql.db\n",
    "DROP TABLE IF EXISTS writer;\n",
    "CREATE TABLE writer (first_name, last_name, year_of_death);\n",
    "INSERT INTO writer VALUES ('William', 'Shakespeare', 1616);\n",
    "INSERT INTO writer VALUES ('Bertold', 'Brecht', 1956);\n",
    "SELECT  * , sqlite_version() as sqlite_version from Writer order by Year_of_death"
   ]
  },
  {
   "cell_type": "code",
   "execution_count": null,
   "metadata": {
    "collapsed": false
   },
   "outputs": [],
   "source": [
    "# checking baresql\n",
    "from __future__ import print_function, unicode_literals, division  # line needed only if Python2.7\n",
    "from baresql import baresql\n",
    "bsql = baresql.baresql(connection=\"sqlite:///.baresql.db\")\n",
    "bsqldf = lambda q: bsql.df(q, dict(globals(),**locals()))\n",
    "\n",
    "users = ['Alexander', 'Billy', 'Charles', 'Danielle', 'Esmeralda', 'Franz', 'Greg']\n",
    "#  We use the python 'users' list like a SQL table\n",
    "sql = \"select 'Welcome ' ||  c0 || ' !' as say_hello, length(c0) as name_length from users$$ where c0 like '%a%' \"\n",
    "bsqldf(sql)"
   ]
  },
  {
   "cell_type": "code",
   "execution_count": null,
   "metadata": {
    "collapsed": false
   },
   "outputs": [],
   "source": [
    "# checking db.py\n",
    "from db import DB\n",
    "db=DB(dbtype=\"sqlite\", filename=\".baresql.db\")\n",
    "db.query(\"select  sqlite_version() as sqlite_version  ;\") "
   ]
  },
  {
   "cell_type": "code",
   "execution_count": null,
   "metadata": {
    "collapsed": false
   },
   "outputs": [],
   "source": [
    "db.tables"
   ]
  },
  {
   "cell_type": "code",
   "execution_count": null,
   "metadata": {
    "collapsed": false
   },
   "outputs": [],
   "source": [
    "# checking sqlite_bro: this should lanch a separate non-browser window with sqlite_bro's welcome\n",
    "!cmd start cmd /C sqlite_bro"
   ]
  },
  {
   "cell_type": "markdown",
   "metadata": {},
   "source": [
    "## Wrap-up"
   ]
  },
  {
   "cell_type": "code",
   "execution_count": null,
   "metadata": {
    "collapsed": false
   },
   "outputs": [],
   "source": [
    "# optional scipy full test (takes up to 10 minutes)\n",
    "#!cmd /C start cmd /k python.exe  -c \"import scipy;scipy.test()\""
   ]
  },
  {
   "cell_type": "code",
   "execution_count": null,
   "metadata": {
    "collapsed": true
   },
   "outputs": [],
   "source": []
  }
 ],
 "metadata": {
  "kernelspec": {
   "display_name": "Python 3",
   "language": "python",
   "name": "python3"
  },
  "language_info": {
   "codemirror_mode": {
    "name": "ipython",
    "version": 3
   },
   "file_extension": ".py",
   "mimetype": "text/x-python",
   "name": "python",
   "nbconvert_exporter": "python",
   "pygments_lexer": "ipython3",
   "version": "3.5.1"
  }
 },
 "nbformat": 4,
 "nbformat_minor": 0
}
