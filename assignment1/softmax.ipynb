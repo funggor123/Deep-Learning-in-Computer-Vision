{
 "cells": [
  {
   "cell_type": "markdown",
   "metadata": {},
   "source": [
    "# Softmax exercise\n",
    "\n",
    "*Complete and hand in this completed worksheet (including its outputs and any supporting code outside of the worksheet) with your assignment submission. For more details see the [assignments page](http://vision.stanford.edu/teaching/cs231n/assignments.html) on the course website.*\n",
    "\n",
    "This exercise is analogous to the SVM exercise. You will:\n",
    "\n",
    "- implement a fully-vectorized **loss function** for the Softmax classifier\n",
    "- implement the fully-vectorized expression for its **analytic gradient**\n",
    "- **check your implementation** with numerical gradient\n",
    "- use a validation set to **tune the learning rate and regularization** strength\n",
    "- **optimize** the loss function with **SGD**\n",
    "- **visualize** the final learned weights\n"
   ]
  },
  {
   "cell_type": "code",
   "execution_count": 1,
   "metadata": {},
   "outputs": [],
   "source": [
    "import random\n",
    "import numpy as np\n",
    "from cs231n.data_utils import load_CIFAR10\n",
    "import matplotlib.pyplot as plt\n",
    "\n",
    "from __future__ import print_function\n",
    "\n",
    "%matplotlib inline\n",
    "plt.rcParams['figure.figsize'] = (10.0, 8.0) # set default size of plots\n",
    "plt.rcParams['image.interpolation'] = 'nearest'\n",
    "plt.rcParams['image.cmap'] = 'gray'\n",
    "\n",
    "# for auto-reloading extenrnal modules\n",
    "# see http://stackoverflow.com/questions/1907993/autoreload-of-modules-in-ipython\n",
    "%load_ext autoreload\n",
    "%autoreload 2"
   ]
  },
  {
   "cell_type": "code",
   "execution_count": 2,
   "metadata": {},
   "outputs": [
    {
     "name": "stdout",
     "output_type": "stream",
     "text": [
      "Train data shape:  (49000, 3073)\n",
      "Train labels shape:  (49000,)\n",
      "Validation data shape:  (1000, 3073)\n",
      "Validation labels shape:  (1000,)\n",
      "Test data shape:  (1000, 3073)\n",
      "Test labels shape:  (1000,)\n",
      "dev data shape:  (500, 3073)\n",
      "dev labels shape:  (500,)\n"
     ]
    }
   ],
   "source": [
    "def get_CIFAR10_data(num_training=49000, num_validation=1000, num_test=1000, num_dev=500):\n",
    "    \"\"\"\n",
    "    Load the CIFAR-10 dataset from disk and perform preprocessing to prepare\n",
    "    it for the linear classifier. These are the same steps as we used for the\n",
    "    SVM, but condensed to a single function.  \n",
    "    \"\"\"\n",
    "    # Load the raw CIFAR-10 data\n",
    "    cifar10_dir = 'cs231n/datasets/cifar-10-batches-py'\n",
    "    X_train, y_train, X_test, y_test = load_CIFAR10(cifar10_dir)\n",
    "    \n",
    "    # subsample the data\n",
    "    mask = list(range(num_training, num_training + num_validation))\n",
    "    X_val = X_train[mask]\n",
    "    y_val = y_train[mask]\n",
    "    mask = list(range(num_training))\n",
    "    X_train = X_train[mask]\n",
    "    y_train = y_train[mask]\n",
    "    mask = list(range(num_test))\n",
    "    X_test = X_test[mask]\n",
    "    y_test = y_test[mask]\n",
    "    mask = np.random.choice(num_training, num_dev, replace=False)\n",
    "    X_dev = X_train[mask]\n",
    "    y_dev = y_train[mask]\n",
    "    \n",
    "    # Preprocessing: reshape the image data into rows\n",
    "    X_train = np.reshape(X_train, (X_train.shape[0], -1))\n",
    "    X_val = np.reshape(X_val, (X_val.shape[0], -1))\n",
    "    X_test = np.reshape(X_test, (X_test.shape[0], -1))\n",
    "    X_dev = np.reshape(X_dev, (X_dev.shape[0], -1))\n",
    "    \n",
    "    # Normalize the data: subtract the mean image\n",
    "    mean_image = np.mean(X_train, axis = 0)\n",
    "    X_train -= mean_image\n",
    "    X_val -= mean_image\n",
    "    X_test -= mean_image\n",
    "    X_dev -= mean_image\n",
    "    \n",
    "    # add bias dimension and transform into columns\n",
    "    X_train = np.hstack([X_train, np.ones((X_train.shape[0], 1))])\n",
    "    X_val = np.hstack([X_val, np.ones((X_val.shape[0], 1))])\n",
    "    X_test = np.hstack([X_test, np.ones((X_test.shape[0], 1))])\n",
    "    X_dev = np.hstack([X_dev, np.ones((X_dev.shape[0], 1))])\n",
    "    \n",
    "    return X_train, y_train, X_val, y_val, X_test, y_test, X_dev, y_dev\n",
    "\n",
    "\n",
    "# Invoke the above function to get our data.\n",
    "X_train, y_train, X_val, y_val, X_test, y_test, X_dev, y_dev = get_CIFAR10_data()\n",
    "print('Train data shape: ', X_train.shape)\n",
    "print('Train labels shape: ', y_train.shape)\n",
    "print('Validation data shape: ', X_val.shape)\n",
    "print('Validation labels shape: ', y_val.shape)\n",
    "print('Test data shape: ', X_test.shape)\n",
    "print('Test labels shape: ', y_test.shape)\n",
    "print('dev data shape: ', X_dev.shape)\n",
    "print('dev labels shape: ', y_dev.shape)"
   ]
  },
  {
   "cell_type": "markdown",
   "metadata": {},
   "source": [
    "## Softmax Classifier\n",
    "\n",
    "Your code for this section will all be written inside **cs231n/classifiers/softmax.py**. \n"
   ]
  },
  {
   "cell_type": "code",
   "execution_count": 3,
   "metadata": {},
   "outputs": [
    {
     "name": "stdout",
     "output_type": "stream",
     "text": [
      "loss: 2.329940\n",
      "sanity check: 2.302585\n"
     ]
    }
   ],
   "source": [
    "# First implement the naive softmax loss function with nested loops.\n",
    "# Open the file cs231n/classifiers/softmax.py and implement the\n",
    "# softmax_loss_naive function.\n",
    "\n",
    "from cs231n.classifiers.softmax import softmax_loss_naive\n",
    "import time\n",
    "\n",
    "# Generate a random softmax weight matrix and use it to compute the loss.\n",
    "W = np.random.randn(3073, 10) * 0.0001\n",
    "loss, grad = softmax_loss_naive(W, X_dev, y_dev, 0.0)\n",
    "\n",
    "# As a rough sanity check, our loss should be something close to -log(0.1).\n",
    "print('loss: %f' % loss)\n",
    "print('sanity check: %f' % (-np.log(0.1)))"
   ]
  },
  {
   "cell_type": "markdown",
   "metadata": {},
   "source": [
    "## Inline Question 1:\n",
    "Why do we expect our loss to be close to -log(0.1)? Explain briefly.**\n",
    "\n",
    "**Your answer:** For Untrained Model ,the probability of getting each class should around 10%, so the loss should be near -log(0.1)\n"
   ]
  },
  {
   "cell_type": "code",
   "execution_count": 4,
   "metadata": {},
   "outputs": [
    {
     "name": "stdout",
     "output_type": "stream",
     "text": [
      "numerical: -1.292506 analytic: -1.292506, relative error: 2.710718e-10\n",
      "numerical: -0.159729 analytic: -0.159729, relative error: 2.524218e-07\n",
      "numerical: 0.270822 analytic: 0.270822, relative error: 4.101497e-08\n",
      "numerical: 0.158601 analytic: 0.158601, relative error: 1.263168e-07\n",
      "numerical: 0.956168 analytic: 0.956168, relative error: 2.634178e-09\n",
      "numerical: -1.069196 analytic: -1.069196, relative error: 6.134776e-09\n",
      "numerical: 0.976602 analytic: 0.976602, relative error: 2.100416e-08\n",
      "numerical: -0.171357 analytic: -0.171357, relative error: 2.386313e-07\n",
      "numerical: -0.679411 analytic: -0.679411, relative error: 2.479146e-08\n",
      "numerical: -2.364131 analytic: -2.364131, relative error: 4.667813e-09\n",
      "numerical: -1.680303 analytic: -1.680303, relative error: 1.685738e-08\n",
      "numerical: 0.554367 analytic: 0.554367, relative error: 5.302198e-08\n",
      "numerical: 1.887378 analytic: 1.887378, relative error: 3.250748e-09\n",
      "numerical: -2.979554 analytic: -2.979554, relative error: 6.450297e-09\n",
      "numerical: -1.114417 analytic: -1.114417, relative error: 6.868095e-08\n",
      "numerical: -1.092084 analytic: -1.092084, relative error: 3.552348e-08\n",
      "numerical: -1.771904 analytic: -1.771904, relative error: 5.146451e-09\n",
      "numerical: -5.538213 analytic: -5.538213, relative error: 2.616442e-10\n",
      "numerical: 2.731993 analytic: 2.731993, relative error: 7.292564e-09\n",
      "numerical: -1.992975 analytic: -1.992975, relative error: 1.194835e-09\n"
     ]
    }
   ],
   "source": [
    "# Complete the implementation of softmax_loss_naive and implement a (naive)\n",
    "# version of the gradient that uses nested loops.\n",
    "loss, grad = softmax_loss_naive(W, X_dev, y_dev, 0.0)\n",
    "\n",
    "# As we did for the SVM, use numeric gradient checking as a debugging tool.\n",
    "# The numeric gradient should be close to the analytic gradient.\n",
    "from cs231n.gradient_check import grad_check_sparse\n",
    "f = lambda w: softmax_loss_naive(w, X_dev, y_dev, 0.0)[0]\n",
    "grad_numerical = grad_check_sparse(f, W, grad, 10)\n",
    "\n",
    "# similar to SVM case, do another gradient check with regularization\n",
    "loss, grad = softmax_loss_naive(W, X_dev, y_dev, 5e1)\n",
    "f = lambda w: softmax_loss_naive(w, X_dev, y_dev, 5e1)[0]\n",
    "grad_numerical = grad_check_sparse(f, W, grad, 10)"
   ]
  },
  {
   "cell_type": "code",
   "execution_count": 5,
   "metadata": {},
   "outputs": [
    {
     "name": "stdout",
     "output_type": "stream",
     "text": [
      "naive loss: 2.329940e+00 computed in 0.087997s\n",
      "vectorized loss: 2.329940e+00 computed in 0.028000s\n",
      "Loss difference: 0.000000\n",
      "Gradient difference: 0.000000\n"
     ]
    }
   ],
   "source": [
    "# Now that we have a naive implementation of the softmax loss function and its gradient,\n",
    "# implement a vectorized version in softmax_loss_vectorized.\n",
    "# The two versions should compute the same results, but the vectorized version should be\n",
    "# much faster.\n",
    "tic = time.time()\n",
    "loss_naive, grad_naive = softmax_loss_naive(W, X_dev, y_dev, 0.000005)\n",
    "toc = time.time()\n",
    "print('naive loss: %e computed in %fs' % (loss_naive, toc - tic))\n",
    "\n",
    "from cs231n.classifiers.softmax import softmax_loss_vectorized\n",
    "tic = time.time()\n",
    "loss_vectorized, grad_vectorized = softmax_loss_vectorized(W, X_dev, y_dev, 0.000005)\n",
    "toc = time.time()\n",
    "print('vectorized loss: %e computed in %fs' % (loss_vectorized, toc - tic))\n",
    "\n",
    "# As we did for the SVM, we use the Frobenius norm to compare the two versions\n",
    "# of the gradient.\n",
    "grad_difference = np.linalg.norm(grad_naive - grad_vectorized, ord='fro')\n",
    "print('Loss difference: %f' % np.abs(loss_naive - loss_vectorized))\n",
    "print('Gradient difference: %f' % grad_difference)"
   ]
  },
  {
   "cell_type": "code",
   "execution_count": 6,
   "metadata": {},
   "outputs": [
    {
     "name": "stderr",
     "output_type": "stream",
     "text": [
      "C:\\Users\\fungh\\OneDrive\\Desktop\\WinPython-64bit-3.5.3.1Qt5\\notebooks\\Deep-Learning-in-Computer-VIsion\\assignment1\\cs231n\\classifiers\\softmax.py:86: RuntimeWarning: divide by zero encountered in log\n",
      "  entropy_loss = -np.log(softmax)\n",
      "C:\\Users\\fungh\\OneDrive\\Desktop\\WinPython-64bit-3.5.3.1Qt5\\notebooks\\Deep-Learning-in-Computer-VIsion\\assignment1\\cs231n\\classifiers\\softmax.py:90: RuntimeWarning: overflow encountered in double_scalars\n",
      "  loss += 0.5*reg*np.sum(W*W)\n",
      "C:\\Users\\fungh\\OneDrive\\Desktop\\WinPython-64bit-3.5.3.1Qt5\\notebooks\\Deep-Learning-in-Computer-VIsion\\assignment1\\cs231n\\classifiers\\softmax.py:90: RuntimeWarning: overflow encountered in multiply\n",
      "  loss += 0.5*reg*np.sum(W*W)\n",
      "C:\\Users\\fungh\\OneDrive\\Desktop\\WinPython-64bit-3.5.3.1Qt5\\notebooks\\Deep-Learning-in-Computer-VIsion\\assignment1\\cs231n\\classifiers\\softmax.py:76: RuntimeWarning: overflow encountered in subtract\n",
      "  hidden_out -= np.max(hidden_out, axis=1, keepdims=True) # max of every sample\n",
      "C:\\Users\\fungh\\OneDrive\\Desktop\\WinPython-64bit-3.5.3.1Qt5\\notebooks\\Deep-Learning-in-Computer-VIsion\\assignment1\\cs231n\\classifiers\\softmax.py:100: RuntimeWarning: overflow encountered in multiply\n",
      "  dW += reg*W\n",
      "C:\\Users\\fungh\\OneDrive\\Desktop\\WinPython-64bit-3.5.3.1Qt5\\notebooks\\Deep-Learning-in-Computer-VIsion\\assignment1\\cs231n\\classifiers\\softmax.py:76: RuntimeWarning: invalid value encountered in subtract\n",
      "  hidden_out -= np.max(hidden_out, axis=1, keepdims=True) # max of every sample\n",
      "C:\\Users\\fungh\\OneDrive\\Desktop\\WinPython-64bit-3.5.3.1Qt5\\notebooks\\Deep-Learning-in-Computer-VIsion\\assignment1\\cs231n\\classifiers\\linear_classifier.py:76: RuntimeWarning: overflow encountered in multiply\n",
      "  self.W = self.W - learning_rate*grad\n"
     ]
    },
    {
     "name": "stdout",
     "output_type": "stream",
     "text": [
      "lr 1.000000e-10 reg 1.000000e-03 train accuracy: 0.083245 val accuracy: 0.086000\n",
      "lr 1.000000e-10 reg 1.000000e-02 train accuracy: 0.087367 val accuracy: 0.079000\n",
      "lr 1.000000e-10 reg 1.000000e-01 train accuracy: 0.078061 val accuracy: 0.078000\n",
      "lr 1.000000e-10 reg 1.000000e+00 train accuracy: 0.105082 val accuracy: 0.100000\n",
      "lr 1.000000e-10 reg 1.000000e+01 train accuracy: 0.090082 val accuracy: 0.086000\n",
      "lr 1.000000e-10 reg 1.000000e+02 train accuracy: 0.129510 val accuracy: 0.129000\n",
      "lr 1.000000e-10 reg 1.000000e+03 train accuracy: 0.097673 val accuracy: 0.107000\n",
      "lr 1.000000e-10 reg 1.000000e+04 train accuracy: 0.124469 val accuracy: 0.104000\n",
      "lr 1.000000e-10 reg 1.000000e+05 train accuracy: 0.100714 val accuracy: 0.092000\n",
      "lr 1.000000e-10 reg 1.000000e+06 train accuracy: 0.080735 val accuracy: 0.077000\n",
      "lr 1.668101e-08 reg 1.000000e-03 train accuracy: 0.109122 val accuracy: 0.111000\n",
      "lr 1.668101e-08 reg 1.000000e-02 train accuracy: 0.140898 val accuracy: 0.135000\n",
      "lr 1.668101e-08 reg 1.000000e-01 train accuracy: 0.118592 val accuracy: 0.115000\n",
      "lr 1.668101e-08 reg 1.000000e+00 train accuracy: 0.106429 val accuracy: 0.108000\n",
      "lr 1.668101e-08 reg 1.000000e+01 train accuracy: 0.104959 val accuracy: 0.088000\n",
      "lr 1.668101e-08 reg 1.000000e+02 train accuracy: 0.110673 val accuracy: 0.124000\n",
      "lr 1.668101e-08 reg 1.000000e+03 train accuracy: 0.106653 val accuracy: 0.110000\n",
      "lr 1.668101e-08 reg 1.000000e+04 train accuracy: 0.119143 val accuracy: 0.128000\n",
      "lr 1.668101e-08 reg 1.000000e+05 train accuracy: 0.120796 val accuracy: 0.126000\n",
      "lr 1.668101e-08 reg 1.000000e+06 train accuracy: 0.215367 val accuracy: 0.213000\n",
      "lr 2.782559e-06 reg 1.000000e-03 train accuracy: 0.298816 val accuracy: 0.298000\n",
      "lr 2.782559e-06 reg 1.000000e-02 train accuracy: 0.296898 val accuracy: 0.305000\n",
      "lr 2.782559e-06 reg 1.000000e-01 train accuracy: 0.292510 val accuracy: 0.288000\n",
      "lr 2.782559e-06 reg 1.000000e+00 train accuracy: 0.294673 val accuracy: 0.280000\n",
      "lr 2.782559e-06 reg 1.000000e+01 train accuracy: 0.299694 val accuracy: 0.299000\n",
      "lr 2.782559e-06 reg 1.000000e+02 train accuracy: 0.294551 val accuracy: 0.274000\n",
      "lr 2.782559e-06 reg 1.000000e+03 train accuracy: 0.334490 val accuracy: 0.322000\n",
      "lr 2.782559e-06 reg 1.000000e+04 train accuracy: 0.336041 val accuracy: 0.336000\n",
      "lr 2.782559e-06 reg 1.000000e+05 train accuracy: 0.254735 val accuracy: 0.238000\n",
      "lr 2.782559e-06 reg 1.000000e+06 train accuracy: 0.096469 val accuracy: 0.091000\n",
      "lr 4.641589e-04 reg 1.000000e-03 train accuracy: 0.238776 val accuracy: 0.233000\n",
      "lr 4.641589e-04 reg 1.000000e-02 train accuracy: 0.230531 val accuracy: 0.240000\n",
      "lr 4.641589e-04 reg 1.000000e-01 train accuracy: 0.248735 val accuracy: 0.234000\n",
      "lr 4.641589e-04 reg 1.000000e+00 train accuracy: 0.265102 val accuracy: 0.279000\n",
      "lr 4.641589e-04 reg 1.000000e+01 train accuracy: 0.254878 val accuracy: 0.240000\n",
      "lr 4.641589e-04 reg 1.000000e+02 train accuracy: 0.158531 val accuracy: 0.178000\n",
      "lr 4.641589e-04 reg 1.000000e+03 train accuracy: 0.155224 val accuracy: 0.167000\n",
      "lr 4.641589e-04 reg 1.000000e+04 train accuracy: 0.083367 val accuracy: 0.081000\n",
      "lr 4.641589e-04 reg 1.000000e+05 train accuracy: 0.100265 val accuracy: 0.087000\n",
      "lr 4.641589e-04 reg 1.000000e+06 train accuracy: 0.100265 val accuracy: 0.087000\n",
      "lr 7.742637e-02 reg 1.000000e-03 train accuracy: 0.266633 val accuracy: 0.264000\n",
      "lr 7.742637e-02 reg 1.000000e-02 train accuracy: 0.271918 val accuracy: 0.278000\n",
      "lr 7.742637e-02 reg 1.000000e-01 train accuracy: 0.222143 val accuracy: 0.227000\n",
      "lr 7.742637e-02 reg 1.000000e+00 train accuracy: 0.213061 val accuracy: 0.239000\n",
      "lr 7.742637e-02 reg 1.000000e+01 train accuracy: 0.143000 val accuracy: 0.155000\n",
      "lr 7.742637e-02 reg 1.000000e+02 train accuracy: 0.051327 val accuracy: 0.065000\n",
      "lr 7.742637e-02 reg 1.000000e+03 train accuracy: 0.100265 val accuracy: 0.087000\n",
      "lr 7.742637e-02 reg 1.000000e+04 train accuracy: 0.100265 val accuracy: 0.087000\n",
      "lr 7.742637e-02 reg 1.000000e+05 train accuracy: 0.100265 val accuracy: 0.087000\n",
      "lr 7.742637e-02 reg 1.000000e+06 train accuracy: 0.100265 val accuracy: 0.087000\n",
      "lr 1.291550e+01 reg 1.000000e-03 train accuracy: 0.247980 val accuracy: 0.236000\n",
      "lr 1.291550e+01 reg 1.000000e-02 train accuracy: 0.193347 val accuracy: 0.190000\n",
      "lr 1.291550e+01 reg 1.000000e-01 train accuracy: 0.109510 val accuracy: 0.112000\n",
      "lr 1.291550e+01 reg 1.000000e+00 train accuracy: 0.060959 val accuracy: 0.072000\n",
      "lr 1.291550e+01 reg 1.000000e+01 train accuracy: 0.100265 val accuracy: 0.087000\n",
      "lr 1.291550e+01 reg 1.000000e+02 train accuracy: 0.100265 val accuracy: 0.087000\n",
      "lr 1.291550e+01 reg 1.000000e+03 train accuracy: 0.100265 val accuracy: 0.087000\n",
      "lr 1.291550e+01 reg 1.000000e+04 train accuracy: 0.100265 val accuracy: 0.087000\n",
      "lr 1.291550e+01 reg 1.000000e+05 train accuracy: 0.100265 val accuracy: 0.087000\n",
      "lr 1.291550e+01 reg 1.000000e+06 train accuracy: 0.100265 val accuracy: 0.087000\n",
      "lr 2.154435e+03 reg 1.000000e-03 train accuracy: 0.067755 val accuracy: 0.081000\n",
      "lr 2.154435e+03 reg 1.000000e-02 train accuracy: 0.059490 val accuracy: 0.067000\n",
      "lr 2.154435e+03 reg 1.000000e-01 train accuracy: 0.100265 val accuracy: 0.087000\n",
      "lr 2.154435e+03 reg 1.000000e+00 train accuracy: 0.100265 val accuracy: 0.087000\n",
      "lr 2.154435e+03 reg 1.000000e+01 train accuracy: 0.100265 val accuracy: 0.087000\n",
      "lr 2.154435e+03 reg 1.000000e+02 train accuracy: 0.100265 val accuracy: 0.087000\n",
      "lr 2.154435e+03 reg 1.000000e+03 train accuracy: 0.100265 val accuracy: 0.087000\n",
      "lr 2.154435e+03 reg 1.000000e+04 train accuracy: 0.100265 val accuracy: 0.087000\n",
      "lr 2.154435e+03 reg 1.000000e+05 train accuracy: 0.100265 val accuracy: 0.087000\n",
      "lr 2.154435e+03 reg 1.000000e+06 train accuracy: 0.100265 val accuracy: 0.087000\n",
      "lr 3.593814e+05 reg 1.000000e-03 train accuracy: 0.100265 val accuracy: 0.087000\n",
      "lr 3.593814e+05 reg 1.000000e-02 train accuracy: 0.100265 val accuracy: 0.087000\n",
      "lr 3.593814e+05 reg 1.000000e-01 train accuracy: 0.100265 val accuracy: 0.087000\n",
      "lr 3.593814e+05 reg 1.000000e+00 train accuracy: 0.100265 val accuracy: 0.087000\n",
      "lr 3.593814e+05 reg 1.000000e+01 train accuracy: 0.100265 val accuracy: 0.087000\n",
      "lr 3.593814e+05 reg 1.000000e+02 train accuracy: 0.100265 val accuracy: 0.087000\n",
      "lr 3.593814e+05 reg 1.000000e+03 train accuracy: 0.100265 val accuracy: 0.087000\n",
      "lr 3.593814e+05 reg 1.000000e+04 train accuracy: 0.100265 val accuracy: 0.087000\n",
      "lr 3.593814e+05 reg 1.000000e+05 train accuracy: 0.100265 val accuracy: 0.087000\n",
      "lr 3.593814e+05 reg 1.000000e+06 train accuracy: 0.100265 val accuracy: 0.087000\n",
      "lr 5.994843e+07 reg 1.000000e-03 train accuracy: 0.100265 val accuracy: 0.087000\n",
      "lr 5.994843e+07 reg 1.000000e-02 train accuracy: 0.100265 val accuracy: 0.087000\n",
      "lr 5.994843e+07 reg 1.000000e-01 train accuracy: 0.100265 val accuracy: 0.087000\n",
      "lr 5.994843e+07 reg 1.000000e+00 train accuracy: 0.100265 val accuracy: 0.087000\n",
      "lr 5.994843e+07 reg 1.000000e+01 train accuracy: 0.100265 val accuracy: 0.087000\n",
      "lr 5.994843e+07 reg 1.000000e+02 train accuracy: 0.100265 val accuracy: 0.087000\n",
      "lr 5.994843e+07 reg 1.000000e+03 train accuracy: 0.100265 val accuracy: 0.087000\n",
      "lr 5.994843e+07 reg 1.000000e+04 train accuracy: 0.100265 val accuracy: 0.087000\n",
      "lr 5.994843e+07 reg 1.000000e+05 train accuracy: 0.100265 val accuracy: 0.087000\n",
      "lr 5.994843e+07 reg 1.000000e+06 train accuracy: 0.100265 val accuracy: 0.087000\n",
      "lr 1.000000e+10 reg 1.000000e-03 train accuracy: 0.100265 val accuracy: 0.087000\n",
      "lr 1.000000e+10 reg 1.000000e-02 train accuracy: 0.100265 val accuracy: 0.087000\n",
      "lr 1.000000e+10 reg 1.000000e-01 train accuracy: 0.100265 val accuracy: 0.087000\n",
      "lr 1.000000e+10 reg 1.000000e+00 train accuracy: 0.100265 val accuracy: 0.087000\n",
      "lr 1.000000e+10 reg 1.000000e+01 train accuracy: 0.100265 val accuracy: 0.087000\n",
      "lr 1.000000e+10 reg 1.000000e+02 train accuracy: 0.100265 val accuracy: 0.087000\n",
      "lr 1.000000e+10 reg 1.000000e+03 train accuracy: 0.100265 val accuracy: 0.087000\n",
      "lr 1.000000e+10 reg 1.000000e+04 train accuracy: 0.100265 val accuracy: 0.087000\n",
      "lr 1.000000e+10 reg 1.000000e+05 train accuracy: 0.100265 val accuracy: 0.087000\n",
      "lr 1.000000e+10 reg 1.000000e+06 train accuracy: 0.100265 val accuracy: 0.087000\n",
      "best validation accuracy achieved during cross-validation: 0.336000\n"
     ]
    }
   ],
   "source": [
    "# Use the validation set to tune hyperparameters (regularization strength and\n",
    "# learning rate). You should experiment with different ranges for the learning\n",
    "# rates and regularization strengths; if you are careful you should be able to\n",
    "# get a classification accuracy of over 0.35 on the validation set.\n",
    "from cs231n.classifiers import Softmax\n",
    "results = {}\n",
    "best_val = -1\n",
    "best_softmax = None\n",
    "learning_rates = np.logspace(-10, 10, 10)\n",
    "regularization_strengths = np.logspace(-3, 6, 10)\n",
    "\n",
    "################################################################################\n",
    "# TODO:                                                                        #\n",
    "# Use the validation set to set the learning rate and regularization strength. #\n",
    "# This should be identical to the validation that you did for the SVM; save    #\n",
    "# the best trained softmax classifer in best_softmax.                          #\n",
    "################################################################################\n",
    "iters = 200\n",
    "for lr in learning_rates:\n",
    "    for rs in regularization_strengths:\n",
    "        softmax = Softmax()\n",
    "        softmax.train(X_train, y_train, learning_rate=lr, reg=rs, num_iters=iters)\n",
    "        \n",
    "        y_train_pred = softmax.predict(X_train)\n",
    "        acc_train = np.mean(y_train == y_train_pred)\n",
    "        y_val_pred = softmax.predict(X_val)\n",
    "        acc_val = np.mean(y_val == y_val_pred)\n",
    "        \n",
    "        results[(lr, rs)] = (acc_train, acc_val)\n",
    "        \n",
    "        if best_val < acc_val:\n",
    "            best_val = acc_val\n",
    "            best_softmax = softmax\n",
    "################################################################################\n",
    "#                              END OF YOUR CODE                                #\n",
    "################################################################################\n",
    "\n",
    "\n",
    "    \n",
    "# Print out results.\n",
    "for lr, reg in sorted(results):\n",
    "    train_accuracy, val_accuracy = results[(lr, reg)]\n",
    "    print('lr %e reg %e train accuracy: %f val accuracy: %f' % (\n",
    "                lr, reg, train_accuracy, val_accuracy))\n",
    "    \n",
    "print('best validation accuracy achieved during cross-validation: %f' % best_val)"
   ]
  },
  {
   "cell_type": "code",
   "execution_count": 7,
   "metadata": {},
   "outputs": [
    {
     "name": "stdout",
     "output_type": "stream",
     "text": [
      "softmax on raw pixels final test set accuracy: 0.329000\n"
     ]
    }
   ],
   "source": [
    "# evaluate on test set\n",
    "# Evaluate the best softmax on test set\n",
    "y_test_pred = best_softmax.predict(X_test)\n",
    "test_accuracy = np.mean(y_test == y_test_pred)\n",
    "print('softmax on raw pixels final test set accuracy: %f' % (test_accuracy, ))"
   ]
  },
  {
   "cell_type": "code",
   "execution_count": 8,
   "metadata": {},
   "outputs": [
    {
     "data": {
      "image/png": "[encoded data removed]",
      "text/plain": [
       "<matplotlib.figure.Figure at 0x1a400029668>"
      ]
     },
     "metadata": {},
     "output_type": "display_data"
    }
   ],
   "source": [
    "# Visualize the learned weights for each class\n",
    "w = best_softmax.W[:-1,:] # strip out the bias\n",
    "w = w.reshape(32, 32, 3, 10)\n",
    "\n",
    "w_min, w_max = np.min(w), np.max(w)\n",
    "\n",
    "classes = ['plane', 'car', 'bird', 'cat', 'deer', 'dog', 'frog', 'horse', 'ship', 'truck']\n",
    "for i in range(10):\n",
    "    plt.subplot(2, 5, i + 1)\n",
    "    \n",
    "    # Rescale the weights to be between 0 and 255\n",
    "    wimg = 255.0 * (w[:, :, :, i].squeeze() - w_min) / (w_max - w_min)\n",
    "    plt.imshow(wimg.astype('uint8'))\n",
    "    plt.axis('off')\n",
    "    plt.title(classes[i])"
   ]
  }
 ],
 "metadata": {
  "kernelspec": {
   "display_name": "Python 3",
   "language": "python",
   "name": "python3"
  },
  "language_info": {
   "codemirror_mode": {
    "name": "ipython",
    "version": 3
   },
   "file_extension": ".py",
   "mimetype": "text/x-python",
   "name": "python",
   "nbconvert_exporter": "python",
   "pygments_lexer": "ipython3",
   "version": "3.5.3"
  }
 },
 "nbformat": 4,
 "nbformat_minor": 1
}
